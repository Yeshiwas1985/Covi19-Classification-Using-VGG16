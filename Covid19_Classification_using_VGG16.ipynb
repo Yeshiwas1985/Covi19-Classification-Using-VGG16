{
 "cells": [
  {
   "cell_type": "code",
   "execution_count": 1,
   "metadata": {
    "colab": {
     "base_uri": "https://localhost:8080/"
    },
    "id": "SGhzT1OI4Xuu",
    "outputId": "d35897d4-4f0f-4577-8484-265e2d646faf"
   },
   "outputs": [
    {
     "name": "stdout",
     "output_type": "stream",
     "text": [
      "Mounted at /content/gdrive/\n"
     ]
    }
   ],
   "source": [
    "from google.colab import drive\n",
    "\n",
    "drive.mount('/content/gdrive/', force_remount=True)"
   ]
  },
  {
   "cell_type": "code",
   "execution_count": 39,
   "metadata": {
    "colab": {
     "base_uri": "https://localhost:8080/"
    },
    "id": "dvYKI1nt5lWE",
    "outputId": "c294a593-ebed-4d40-e0a1-517125a3c557"
   },
   "outputs": [
    {
     "name": "stdout",
     "output_type": "stream",
     "text": [
      "/content/gdrive/MyDrive\n"
     ]
    }
   ],
   "source": [
    "%cd /content/gdrive/MyDrive"
   ]
  },
  {
   "cell_type": "code",
   "execution_count": 4,
   "metadata": {
    "id": "YlgsrpCz6DS5"
   },
   "outputs": [],
   "source": [
    "# VGG16 is a popular deep convolutional neural network architecture used in computer vision.\n",
    "# Developed by the Visual Geometry Group at the University of Oxford, it is named after its 16 weight layers.\n",
    "\n",
    "# Key characteristics of VGG16 include:\n",
    "# 1. Depth: VGG16 comprises 16 layers, making it a deep network with 13 convolutional layers and 3 fully connected layers.\n",
    "# 2. Small Convolutional Kernels: It uses 3x3 convolutional kernels, which are effective for capturing local features.\n",
    "# 3. Max-Pooling Layers: VGG16 incorporates max-pooling layers after each pair of convolutional layers for downsampling.\n",
    "# 4. Fully Connected Layers: The last three layers are fully connected, providing class probabilities for classification tasks.\n",
    "# 5. ReLU Activation: Rectified Linear Unit (ReLU) activation functions introduce non-linearity.\n",
    "# 6. Dropout: Dropout layers are used to reduce overfitting during training.\n",
    "\n",
    "# VGG16 was highly successful in image classification, particularly in the 2014 ImageNet Challenge.\n",
    "# It is still used in various computer vision applications, such as transfer learning, object recognition, and feature extraction.\n",
    "# However, its depth and parameter count make it resource-intensive in terms of computational and memory requirements.\n"
   ]
  },
  {
   "cell_type": "markdown",
   "metadata": {
    "id": "MtzCmDTl6DV3"
   },
   "source": [
    "### 1. Importing Required libraries"
   ]
  },
  {
   "cell_type": "code",
   "execution_count": 23,
   "metadata": {
    "id": "JTZtKm8q7hqX"
   },
   "outputs": [],
   "source": [
    "from tensorflow.keras.applications import VGG16\n",
    "from tensorflow.keras.layers import Flatten, Dense, Dropout\n",
    "from tensorflow.keras.models import Model\n",
    "from tensorflow.keras.models import Sequential\n",
    "from tensorflow.keras.preprocessing.image import load_img\n",
    "from tensorflow.keras.models import Sequential\n",
    "from tensorflow.keras.utils import to_categorical\n",
    "from tensorflow.keras.optimizers import Adam\n",
    "from sklearn.metrics import classification_report\n",
    "from sklearn.preprocessing import LabelBinarizer\n",
    "import pandas as pd\n",
    "import numpy as np\n",
    "import matplotlib.pyplot as plt\n",
    "%matplotlib inline\n",
    "import cv2\n",
    "import os"
   ]
  },
  {
   "cell_type": "markdown",
   "metadata": {
    "id": "-45ez4m27lYv"
   },
   "source": [
    "### 2. Import the train and test datasets"
   ]
  },
  {
   "cell_type": "code",
   "execution_count": 7,
   "metadata": {
    "id": "G43MLXmH7luF"
   },
   "outputs": [],
   "source": [
    "# Define the directory path for the training data.\n",
    "train_dir = \"/content/gdrive/MyDrive/Covid_19 Classification/Covid19-dataset/train/\"\n",
    "\n",
    "# Define the directory path for the testing data.\n",
    "test_dir = \"/content/gdrive/MyDrive/Covid_19 Classification/Covid19-dataset/test/\"\n"
   ]
  },
  {
   "cell_type": "code",
   "execution_count": 8,
   "metadata": {
    "id": "DWBKgToA7lyI"
   },
   "outputs": [],
   "source": [
    "# Define the categories (classes) your model will classify data into.\n",
    "categories = ['Covid', 'Normal', 'Viral Pneumonia']\n",
    "\n",
    "# Initialize empty lists for storing your data and labels.\n",
    "y = []  # Combined labels\n",
    "x = []  # Combined data\n",
    "\n",
    "# Set the batch size for training your model. Batch size determines how many data samples are processed in each iteration.\n",
    "Batch_Size = 32\n",
    "\n",
    "# Set the initial learning rate for your model. Learning rate affects the step size in training algorithms.\n",
    "INIT_LR = 1e-4\n",
    "\n",
    "# Define the number of epochs. An epoch is one complete pass through the entire training dataset.\n",
    "EPOCHES = 10\n"
   ]
  },
  {
   "cell_type": "markdown",
   "metadata": {
    "id": "0p3LQiDe7l1e"
   },
   "source": [
    "### 3. Reading Images from the dataset"
   ]
  },
  {
   "cell_type": "markdown",
   "metadata": {
    "id": "uOh-V1MX7l4r"
   },
   "source": [
    "#### 3.1 Reading The Images From The Train Dataset and Preprocessing"
   ]
  },
  {
   "cell_type": "code",
   "execution_count": 9,
   "metadata": {
    "colab": {
     "base_uri": "https://localhost:8080/"
    },
    "id": "HwcfVYDb7-k6",
    "outputId": "f437bcc1-de59-47de-d9db-a949dc7e026a"
   },
   "outputs": [
    {
     "name": "stdout",
     "output_type": "stream",
     "text": [
      "1806\n",
      "1375\n",
      "3\n"
     ]
    }
   ],
   "source": [
    "# Import the OpenCV library.\n",
    "import cv2\n",
    "\n",
    "# Read an image from the specified file path.\n",
    "im = cv2.imread('/content/gdrive/MyDrive/Covid_19 Classification/Covid19-dataset/train/Covid/COVID-00013b.jpg')\n",
    "\n",
    "# Get the dimensions of the image: width (w), height (h), and number of color channels (c).\n",
    "h, w, c = im.shape\n",
    "\n",
    "# Print the width of the image.\n",
    "print(w)\n",
    "\n",
    "# Print the height of the image.\n",
    "print(h)\n",
    "\n",
    "# Print the number of color channels (e.g., 3 for RGB images).\n",
    "print(c)\n"
   ]
  },
  {
   "cell_type": "code",
   "execution_count": 10,
   "metadata": {
    "id": "yeVbV1nR7-nz"
   },
   "outputs": [],
   "source": [
    "# Loop through the defined categories (e.g., 'Covid', 'Normal', 'Viral Pneumonia').\n",
    "for category in categories:\n",
    "    # Create the full path to the directory for the current category within the training directory.\n",
    "    path = os.path.join(train_dir, category)\n",
    "\n",
    "    # Iterate through the files in the current category directory.\n",
    "    for img in os.listdir(path):\n",
    "        # Create the full path to the current image file.\n",
    "        img_path = os.path.join(path, img)\n",
    "\n",
    "        # Read the image using OpenCV.\n",
    "        image = cv2.imread(img_path)\n",
    "\n",
    "        # Resize the image to a common size (e.g., 500x500 pixels).\n",
    "        image = cv2.resize(image, (500, 500))\n",
    "\n",
    "        # Normalize the image pixel values to be in the range [0, 1].\n",
    "        image = image / 255.0\n",
    "\n",
    "        # Append the preprocessed image to the data list (x).\n",
    "        x.append(image)\n",
    "\n",
    "        # Append the corresponding category label to the labels list (y).\n",
    "        y.append(category)"
   ]
  },
  {
   "cell_type": "code",
   "execution_count": 16,
   "metadata": {
    "colab": {
     "base_uri": "https://localhost:8080/"
    },
    "id": "40uFYjsW7-rS",
    "outputId": "1190c7c9-67ff-486e-bfb6-f4f4bcbb385e"
   },
   "outputs": [
    {
     "data": {
      "text/plain": [
       "array([[[0.03529412, 0.03529412, 0.03529412],\n",
       "        [0.03137255, 0.03137255, 0.03137255],\n",
       "        [0.03137255, 0.03137255, 0.03137255],\n",
       "        ...,\n",
       "        [0.05098039, 0.05098039, 0.05098039],\n",
       "        [0.05882353, 0.05882353, 0.05882353],\n",
       "        [0.05098039, 0.05098039, 0.05098039]],\n",
       "\n",
       "       [[0.03137255, 0.03137255, 0.03137255],\n",
       "        [0.02745098, 0.02745098, 0.02745098],\n",
       "        [0.02745098, 0.02745098, 0.02745098],\n",
       "        ...,\n",
       "        [0.03529412, 0.03529412, 0.03529412],\n",
       "        [0.05098039, 0.05098039, 0.05098039],\n",
       "        [0.05490196, 0.05490196, 0.05490196]],\n",
       "\n",
       "       [[0.03137255, 0.03137255, 0.03137255],\n",
       "        [0.03137255, 0.03137255, 0.03137255],\n",
       "        [0.02352941, 0.02352941, 0.02352941],\n",
       "        ...,\n",
       "        [0.03137255, 0.03137255, 0.03137255],\n",
       "        [0.03529412, 0.03529412, 0.03529412],\n",
       "        [0.05098039, 0.05098039, 0.05098039]],\n",
       "\n",
       "       ...,\n",
       "\n",
       "       [[0.        , 0.        , 0.        ],\n",
       "        [0.        , 0.        , 0.        ],\n",
       "        [0.        , 0.        , 0.        ],\n",
       "        ...,\n",
       "        [0.02745098, 0.02745098, 0.02745098],\n",
       "        [0.02745098, 0.02745098, 0.02745098],\n",
       "        [0.02745098, 0.02745098, 0.02745098]],\n",
       "\n",
       "       [[0.        , 0.        , 0.        ],\n",
       "        [0.        , 0.        , 0.        ],\n",
       "        [0.        , 0.        , 0.        ],\n",
       "        ...,\n",
       "        [0.03137255, 0.03137255, 0.03137255],\n",
       "        [0.03137255, 0.03137255, 0.03137255],\n",
       "        [0.03137255, 0.03137255, 0.03137255]],\n",
       "\n",
       "       [[0.        , 0.        , 0.        ],\n",
       "        [0.        , 0.        , 0.        ],\n",
       "        [0.        , 0.        , 0.        ],\n",
       "        ...,\n",
       "        [0.03137255, 0.03137255, 0.03137255],\n",
       "        [0.03137255, 0.03137255, 0.03137255],\n",
       "        [0.03137255, 0.03137255, 0.03137255]]])"
      ]
     },
     "execution_count": 16,
     "metadata": {},
     "output_type": "execute_result"
    }
   ],
   "source": [
    "x[0]"
   ]
  },
  {
   "cell_type": "code",
   "execution_count": 17,
   "metadata": {
    "colab": {
     "base_uri": "https://localhost:8080/"
    },
    "id": "NULFz_vG7-zE",
    "outputId": "585892f8-cdfa-4f13-dd73-c5b48fc67b74"
   },
   "outputs": [
    {
     "data": {
      "text/plain": [
       "['Covid', 'Covid', 'Covid', 'Covid', 'Covid']"
      ]
     },
     "execution_count": 17,
     "metadata": {},
     "output_type": "execute_result"
    }
   ],
   "source": [
    "y[:5]"
   ]
  },
  {
   "cell_type": "markdown",
   "metadata": {
    "id": "bgIaoS8X7_CU"
   },
   "source": [
    "#### 3.1. Reading The Images From The Test Dataset and Preprocessing"
   ]
  },
  {
   "cell_type": "code",
   "execution_count": 11,
   "metadata": {
    "id": "KBR-QSCQrmuG"
   },
   "outputs": [],
   "source": [
    "# Loop through the defined categories (e.g., 'Covid', 'Normal', 'Viral Pneumonia').\n",
    "for category in categories:\n",
    "    # Create the full path to the directory for the current category within the testing directory.\n",
    "    path = os.path.join(test_dir, category)\n",
    "\n",
    "    # Iterate through the files in the current category directory.\n",
    "    for img in os.listdir(path):\n",
    "        # Create the full path to the current image file.\n",
    "        img_path = os.path.join(path, img)\n",
    "\n",
    "        # Read the image using OpenCV.\n",
    "        image = cv2.imread(img_path)\n",
    "\n",
    "        # Resize the image to a common size (e.g., 500x500 pixels).\n",
    "        image = cv2.resize(image, (500, 500))\n",
    "\n",
    "        # Normalize the image pixel values to be in the range [0, 1].\n",
    "        image = image / 255.0\n",
    "\n",
    "        # Append the preprocessed image to the data list (x).\n",
    "        x.append(image)\n",
    "\n",
    "        # Append the corresponding category label to the labels list (y).\n",
    "        y.append(category)"
   ]
  },
  {
   "cell_type": "code",
   "execution_count": 12,
   "metadata": {
    "colab": {
     "base_uri": "https://localhost:8080/"
    },
    "id": "INdo49yjrmw6",
    "outputId": "2f13dbb5-e711-43c5-d699-e819f4815a9b"
   },
   "outputs": [
    {
     "data": {
      "text/plain": [
       "array([[[0.03529412, 0.03529412, 0.03529412],\n",
       "        [0.03137255, 0.03137255, 0.03137255],\n",
       "        [0.03137255, 0.03137255, 0.03137255],\n",
       "        ...,\n",
       "        [0.05098039, 0.05098039, 0.05098039],\n",
       "        [0.05882353, 0.05882353, 0.05882353],\n",
       "        [0.05098039, 0.05098039, 0.05098039]],\n",
       "\n",
       "       [[0.03137255, 0.03137255, 0.03137255],\n",
       "        [0.02745098, 0.02745098, 0.02745098],\n",
       "        [0.02745098, 0.02745098, 0.02745098],\n",
       "        ...,\n",
       "        [0.03529412, 0.03529412, 0.03529412],\n",
       "        [0.05098039, 0.05098039, 0.05098039],\n",
       "        [0.05490196, 0.05490196, 0.05490196]],\n",
       "\n",
       "       [[0.03137255, 0.03137255, 0.03137255],\n",
       "        [0.03137255, 0.03137255, 0.03137255],\n",
       "        [0.02352941, 0.02352941, 0.02352941],\n",
       "        ...,\n",
       "        [0.03137255, 0.03137255, 0.03137255],\n",
       "        [0.03529412, 0.03529412, 0.03529412],\n",
       "        [0.05098039, 0.05098039, 0.05098039]],\n",
       "\n",
       "       ...,\n",
       "\n",
       "       [[0.        , 0.        , 0.        ],\n",
       "        [0.        , 0.        , 0.        ],\n",
       "        [0.        , 0.        , 0.        ],\n",
       "        ...,\n",
       "        [0.02745098, 0.02745098, 0.02745098],\n",
       "        [0.02745098, 0.02745098, 0.02745098],\n",
       "        [0.02745098, 0.02745098, 0.02745098]],\n",
       "\n",
       "       [[0.        , 0.        , 0.        ],\n",
       "        [0.        , 0.        , 0.        ],\n",
       "        [0.        , 0.        , 0.        ],\n",
       "        ...,\n",
       "        [0.03137255, 0.03137255, 0.03137255],\n",
       "        [0.03137255, 0.03137255, 0.03137255],\n",
       "        [0.03137255, 0.03137255, 0.03137255]],\n",
       "\n",
       "       [[0.        , 0.        , 0.        ],\n",
       "        [0.        , 0.        , 0.        ],\n",
       "        [0.        , 0.        , 0.        ],\n",
       "        ...,\n",
       "        [0.03137255, 0.03137255, 0.03137255],\n",
       "        [0.03137255, 0.03137255, 0.03137255],\n",
       "        [0.03137255, 0.03137255, 0.03137255]]])"
      ]
     },
     "execution_count": 12,
     "metadata": {},
     "output_type": "execute_result"
    }
   ],
   "source": [
    "x[0]"
   ]
  },
  {
   "cell_type": "code",
   "execution_count": 13,
   "metadata": {
    "colab": {
     "base_uri": "https://localhost:8080/"
    },
    "id": "CPtC3P4BrmzT",
    "outputId": "accc4909-b940-42d8-8280-58a92047275c"
   },
   "outputs": [
    {
     "data": {
      "text/plain": [
       "['Covid', 'Covid', 'Covid', 'Covid', 'Covid']"
      ]
     },
     "execution_count": 13,
     "metadata": {},
     "output_type": "execute_result"
    }
   ],
   "source": [
    "y[:5]"
   ]
  },
  {
   "cell_type": "markdown",
   "metadata": {
    "id": "1svRhzwjrm2F"
   },
   "source": [
    "### 4. Preprocessing The Data And Label"
   ]
  },
  {
   "cell_type": "code",
   "execution_count": 14,
   "metadata": {
    "id": "MFwftBOprm7p"
   },
   "outputs": [],
   "source": [
    "# Import the train_test_split function from scikit-learn to split the data.\n",
    "from sklearn.model_selection import train_test_split\n",
    "\n",
    "# Split the data into training and testing sets:\n",
    "# - x is the data (images).\n",
    "# - y is the labels (categories).\n",
    "# - test_size specifies the proportion of the data to be used for testing (e.g., 20%).\n",
    "# - random_state is used for reproducibility of the split.\n",
    "\n",
    "x_train, x_test, y_train, y_test = train_test_split(x, y, test_size=0.2, random_state=42)\n",
    "\n",
    "# After this code, you'll have:\n",
    "# - x_train: Training data (images).\n",
    "# - x_test: Testing data (images).\n",
    "# - y_train: Training labels (categories).\n",
    "# - y_test: Testing labels (categories)."
   ]
  },
  {
   "cell_type": "code",
   "execution_count": 15,
   "metadata": {
    "id": "oWtY7-FIrm-o"
   },
   "outputs": [],
   "source": [
    "# perform one-hot encoding on the class labels. \n",
    "# One-hot encoding is a common technique used in machine learning for handling categorical labels. \n",
    "# It transforms categorical labels into a binary format that is suitable for use in machine learning models.\n",
    "\n",
    "# Initialize a LabelBinarizer object.\n",
    "lb = LabelBinarizer()\n",
    "\n",
    "# Fit and transform the training labels (y_train) to one-hot encoded format.\n",
    "y_train = lb.fit_transform(y_train)\n",
    "\n",
    "# Transform the testing labels (y_test) to one-hot encoded format using the same LabelBinarizer.\n",
    "y_test = lb.transform(y_test)\n",
    "\n",
    "# After this code, y_train and y_test will be one-hot encoded, where each category is represented as a binary vector."
   ]
  },
  {
   "cell_type": "code",
   "execution_count": 16,
   "metadata": {
    "id": "tzgw5xsJr-eX"
   },
   "outputs": [],
   "source": [
    "#### convert your data and labels to NumPy arrays and specifying the data type as 'float32'.\n",
    "#### This data type is often used in machine learning for numerical computations and is more memory-efficient compared to other data types like 'float64'\n",
    "\n",
    "x_train = np.array(x_train,dtype='float32')\n",
    "y_train = np.array(y_train,dtype='float32')\n",
    "x_test = np.array(x_test,dtype='float32')\n",
    "y_test = np.array(y_test,dtype='float32')"
   ]
  },
  {
   "cell_type": "code",
   "execution_count": 23,
   "metadata": {
    "colab": {
     "base_uri": "https://localhost:8080/"
    },
    "id": "Gh-Mshcrr-g3",
    "outputId": "e1ea5bf4-8483-4302-bac0-b02340c175ae"
   },
   "outputs": [
    {
     "data": {
      "text/plain": [
       "(253, 500, 500, 3)"
      ]
     },
     "execution_count": 23,
     "metadata": {},
     "output_type": "execute_result"
    }
   ],
   "source": [
    "x_train.shape"
   ]
  },
  {
   "cell_type": "code",
   "execution_count": 24,
   "metadata": {
    "colab": {
     "base_uri": "https://localhost:8080/"
    },
    "id": "FJEBSLQdsGJg",
    "outputId": "bfa38d02-17ef-4628-bd09-c2e7df3a6030"
   },
   "outputs": [
    {
     "data": {
      "text/plain": [
       "(253, 3)"
      ]
     },
     "execution_count": 24,
     "metadata": {},
     "output_type": "execute_result"
    }
   ],
   "source": [
    "y_train.shape"
   ]
  },
  {
   "cell_type": "code",
   "execution_count": 25,
   "metadata": {
    "colab": {
     "base_uri": "https://localhost:8080/"
    },
    "id": "etFjWp4usGMf",
    "outputId": "bbd013d1-807e-45e3-9fdc-df4401cbe197"
   },
   "outputs": [
    {
     "data": {
      "text/plain": [
       "(64, 500, 500, 3)"
      ]
     },
     "execution_count": 25,
     "metadata": {},
     "output_type": "execute_result"
    }
   ],
   "source": [
    "x_test.shape"
   ]
  },
  {
   "cell_type": "code",
   "execution_count": 26,
   "metadata": {
    "colab": {
     "base_uri": "https://localhost:8080/"
    },
    "id": "KU4mrZlusGO0",
    "outputId": "9a0eeb00-b82d-4d3f-f1e9-755322e588d2"
   },
   "outputs": [
    {
     "data": {
      "text/plain": [
       "(64, 3)"
      ]
     },
     "execution_count": 26,
     "metadata": {},
     "output_type": "execute_result"
    }
   ],
   "source": [
    "y_test.shape"
   ]
  },
  {
   "cell_type": "markdown",
   "metadata": {
    "id": "oo_rWpXWsGRh"
   },
   "source": [
    "### 5. Bulding A VGG16 Model"
   ]
  },
  {
   "cell_type": "code",
   "execution_count": 24,
   "metadata": {
    "colab": {
     "base_uri": "https://localhost:8080/"
    },
    "id": "xpur5D02r-lW",
    "outputId": "b407460a-c191-479f-8df6-34b833a608d2"
   },
   "outputs": [
    {
     "name": "stderr",
     "output_type": "stream",
     "text": [
      "WARNING:absl:`lr` is deprecated in Keras optimizer, please use `learning_rate` or use the legacy optimizer, e.g.,tf.keras.optimizers.legacy.Adam.\n"
     ]
    }
   ],
   "source": [
    "#### Using VGG16\n",
    "\n",
    "# Load the pre-trained VGG16 model without the top classification layers\n",
    "base_model = VGG16(weights='imagenet', include_top=False, input_shape=(500, 500, 3))\n",
    "\n",
    "# Freeze the convolutional layers\n",
    "for layer in base_model.layers:\n",
    "    layer.trainable = False\n",
    "\n",
    "# Create a new classification head\n",
    "x = Flatten()(base_model.output)\n",
    "x = Dense(128, activation='relu')(x)\n",
    "x = Dropout(0.5)(x)\n",
    "output = Dense(3, activation='softmax')(x)  # Adjust the number of units for your task (3 for your case)\n",
    "\n",
    "# Create the fine-tuned model\n",
    "model = Model(inputs=base_model.input, outputs=output)\n",
    "\n",
    "# Compile the model with an appropriate optimizer and loss function\n",
    "model.compile(optimizer=Adam(lr=0.0001), loss='categorical_crossentropy', metrics=['accuracy'])\n"
   ]
  },
  {
   "cell_type": "code",
   "execution_count": 25,
   "metadata": {
    "colab": {
     "base_uri": "https://localhost:8080/"
    },
    "id": "oLv3qG1VvJXq",
    "outputId": "97804361-39f3-4f54-a4e6-fef4fef24a2e"
   },
   "outputs": [
    {
     "name": "stdout",
     "output_type": "stream",
     "text": [
      "Model: \"model\"\n",
      "_________________________________________________________________\n",
      " Layer (type)                Output Shape              Param #   \n",
      "=================================================================\n",
      " input_3 (InputLayer)        [(None, 500, 500, 3)]     0         \n",
      "                                                                 \n",
      " block1_conv1 (Conv2D)       (None, 500, 500, 64)      1792      \n",
      "                                                                 \n",
      " block1_conv2 (Conv2D)       (None, 500, 500, 64)      36928     \n",
      "                                                                 \n",
      " block1_pool (MaxPooling2D)  (None, 250, 250, 64)      0         \n",
      "                                                                 \n",
      " block2_conv1 (Conv2D)       (None, 250, 250, 128)     73856     \n",
      "                                                                 \n",
      " block2_conv2 (Conv2D)       (None, 250, 250, 128)     147584    \n",
      "                                                                 \n",
      " block2_pool (MaxPooling2D)  (None, 125, 125, 128)     0         \n",
      "                                                                 \n",
      " block3_conv1 (Conv2D)       (None, 125, 125, 256)     295168    \n",
      "                                                                 \n",
      " block3_conv2 (Conv2D)       (None, 125, 125, 256)     590080    \n",
      "                                                                 \n",
      " block3_conv3 (Conv2D)       (None, 125, 125, 256)     590080    \n",
      "                                                                 \n",
      " block3_pool (MaxPooling2D)  (None, 62, 62, 256)       0         \n",
      "                                                                 \n",
      " block4_conv1 (Conv2D)       (None, 62, 62, 512)       1180160   \n",
      "                                                                 \n",
      " block4_conv2 (Conv2D)       (None, 62, 62, 512)       2359808   \n",
      "                                                                 \n",
      " block4_conv3 (Conv2D)       (None, 62, 62, 512)       2359808   \n",
      "                                                                 \n",
      " block4_pool (MaxPooling2D)  (None, 31, 31, 512)       0         \n",
      "                                                                 \n",
      " block5_conv1 (Conv2D)       (None, 31, 31, 512)       2359808   \n",
      "                                                                 \n",
      " block5_conv2 (Conv2D)       (None, 31, 31, 512)       2359808   \n",
      "                                                                 \n",
      " block5_conv3 (Conv2D)       (None, 31, 31, 512)       2359808   \n",
      "                                                                 \n",
      " block5_pool (MaxPooling2D)  (None, 15, 15, 512)       0         \n",
      "                                                                 \n",
      " flatten_2 (Flatten)         (None, 115200)            0         \n",
      "                                                                 \n",
      " dense_4 (Dense)             (None, 128)               14745728  \n",
      "                                                                 \n",
      " dropout_2 (Dropout)         (None, 128)               0         \n",
      "                                                                 \n",
      " dense_5 (Dense)             (None, 3)                 387       \n",
      "                                                                 \n",
      "=================================================================\n",
      "Total params: 29460803 (112.38 MB)\n",
      "Trainable params: 14746115 (56.25 MB)\n",
      "Non-trainable params: 14714688 (56.13 MB)\n",
      "_________________________________________________________________\n"
     ]
    }
   ],
   "source": [
    "model.summary()"
   ]
  },
  {
   "cell_type": "markdown",
   "metadata": {
    "id": "KpJLuipYr-oJ"
   },
   "source": [
    "### 6. Train the model"
   ]
  },
  {
   "cell_type": "code",
   "execution_count": 27,
   "metadata": {
    "colab": {
     "base_uri": "https://localhost:8080/"
    },
    "id": "I1sc7SaTsX4Y",
    "outputId": "f9b92550-7b9f-4033-cb59-86c06efafe35"
   },
   "outputs": [
    {
     "name": "stdout",
     "output_type": "stream",
     "text": [
      "Epoch 1/10\n",
      "8/8 [==============================] - 8s 957ms/step - loss: 0.2823 - accuracy: 0.8933 - val_loss: 0.0617 - val_accuracy: 0.9844\n",
      "Epoch 2/10\n",
      "8/8 [==============================] - 7s 956ms/step - loss: 0.2471 - accuracy: 0.9130 - val_loss: 0.0527 - val_accuracy: 1.0000\n",
      "Epoch 3/10\n",
      "8/8 [==============================] - 8s 992ms/step - loss: 0.2999 - accuracy: 0.8814 - val_loss: 0.0424 - val_accuracy: 1.0000\n",
      "Epoch 4/10\n",
      "8/8 [==============================] - 8s 1s/step - loss: 0.2248 - accuracy: 0.9328 - val_loss: 0.0486 - val_accuracy: 0.9844\n",
      "Epoch 5/10\n",
      "8/8 [==============================] - 9s 1s/step - loss: 0.2815 - accuracy: 0.9091 - val_loss: 0.0476 - val_accuracy: 1.0000\n",
      "Epoch 6/10\n",
      "8/8 [==============================] - 8s 1s/step - loss: 0.2691 - accuracy: 0.9249 - val_loss: 0.0606 - val_accuracy: 1.0000\n",
      "Epoch 7/10\n",
      "8/8 [==============================] - 8s 975ms/step - loss: 0.2290 - accuracy: 0.9289 - val_loss: 0.1037 - val_accuracy: 0.9531\n",
      "Epoch 8/10\n",
      "8/8 [==============================] - 7s 963ms/step - loss: 0.1859 - accuracy: 0.9407 - val_loss: 0.0290 - val_accuracy: 1.0000\n",
      "Epoch 9/10\n",
      "8/8 [==============================] - 8s 1s/step - loss: 0.2646 - accuracy: 0.9091 - val_loss: 0.0398 - val_accuracy: 1.0000\n",
      "Epoch 10/10\n",
      "8/8 [==============================] - 7s 941ms/step - loss: 0.2157 - accuracy: 0.9249 - val_loss: 0.0464 - val_accuracy: 0.9844\n",
      "2/2 [==============================] - 2s 749ms/step - loss: 0.0464 - accuracy: 0.9844\n",
      "Test Loss: 0.04638753458857536\n",
      "Test Accuracy: 0.984375\n"
     ]
    }
   ],
   "source": [
    "# Train the model with your data\n",
    "model.fit(x_train, y_train, epochs=EPOCHES, batch_size=Batch_Size, validation_data=(x_test, y_test))\n",
    "\n",
    "# After training, you can evaluate the model and save it\n",
    "evaluation = model.evaluate(x_test, y_test, batch_size=Batch_Size)\n",
    "print(\"Test Loss:\", evaluation[0])\n",
    "print(\"Test Accuracy:\", evaluation[1])\n",
    "\n",
    "# Save the model\n",
    "model.save(\"Covid_VGG16.h5\")"
   ]
  },
  {
   "cell_type": "markdown",
   "metadata": {
    "id": "47Q8FVIOsX-C"
   },
   "source": [
    "### 7. Evaluate the model using new images"
   ]
  },
  {
   "cell_type": "code",
   "execution_count": 28,
   "metadata": {
    "colab": {
     "base_uri": "https://localhost:8080/"
    },
    "id": "GzYVorsRsYEo",
    "outputId": "7ac0245e-099b-412a-9bfd-39072ddc355a"
   },
   "outputs": [
    {
     "name": "stdout",
     "output_type": "stream",
     "text": [
      "1/1 [==============================] - 2s 2s/step\n",
      "Predicted Class: Covid\n"
     ]
    }
   ],
   "source": [
    "# Preprocess the new image\n",
    "new_image_path = '/content/gdrive/MyDrive/Covid_19 Classification/Covid19-dataset/train/Covid/COVID-00013b.jpg'  # Replace with the path to your new image\n",
    "new_image = cv2.imread(new_image_path)\n",
    "new_image = cv2.resize(new_image, (500, 500))\n",
    "new_image = new_image / 255  # Normalize pixel values\n",
    "\n",
    "# Expand dimensions to match the model's input shape\n",
    "new_image = np.expand_dims(new_image, axis=0)\n",
    "\n",
    "# Use the model to make predictions\n",
    "predictions = model.predict(new_image)\n",
    "\n",
    "# Interpret the predictions\n",
    "class_index = np.argmax(predictions)  # Get the index of the class with the highest probability\n",
    "predicted_class = categories[class_index]  # Map the index to the class label\n",
    "\n",
    "# Print the predicted class\n",
    "print(\"Predicted Class:\", predicted_class)"
   ]
  },
  {
   "cell_type": "markdown",
   "metadata": {
    "id": "nfIzR6W8sYXM"
   },
   "source": [
    "### 8. Evaluate the saved model in new image"
   ]
  },
  {
   "cell_type": "code",
   "execution_count": 33,
   "metadata": {
    "colab": {
     "base_uri": "https://localhost:8080/"
    },
    "id": "Zo6yf8gAsYaK",
    "outputId": "ac096723-443c-4849-ed27-adbbbd8a0848"
   },
   "outputs": [
    {
     "name": "stdout",
     "output_type": "stream",
     "text": [
      "1/1 [==============================] - 0s 139ms/step\n",
      "Predicted Class: Normal\n"
     ]
    }
   ],
   "source": [
    "### Testing a model with another new image\n",
    "from tensorflow.keras.models import load_model\n",
    "\n",
    "# Load the saved model\n",
    "loaded_model = load_model(\"/content/gdrive/MyDrive/Covid_19 Classification/Covid_VGG16.h5\")\n",
    "\n",
    "# Preprocess a new image\n",
    "new_image_path1 = \"/content/gdrive/MyDrive/Covid_19 Classification/Covid19-dataset/test/Normal/0101.jpeg\"  # Replace with the path to your new image\n",
    "new_image1 = cv2.imread(new_image_path1)\n",
    "new_image1 = cv2.resize(new_image1, (500, 500))\n",
    "new_image1 = new_image1 / 255  # Normalize pixel values\n",
    "new_image1 = np.expand_dims(new_image1, axis=0)  # Expand dimensions\n",
    "\n",
    "# Use the loaded model to make predictions\n",
    "predictions = loaded_model.predict(new_image1)\n",
    "\n",
    "# Interpret the predictions (e.g., get the predicted class label)\n",
    "class_index = np.argmax(predictions)\n",
    "predicted_class = categories[class_index]\n",
    "print(\"Predicted Class:\", predicted_class)\n"
   ]
  },
  {
   "cell_type": "markdown",
   "metadata": {
    "id": "wl-jCVfZ4V5l"
   },
   "source": [
    "### 9. Visualize the result"
   ]
  },
  {
   "cell_type": "code",
   "execution_count": 37,
   "metadata": {
    "colab": {
     "base_uri": "https://localhost:8080/",
     "height": 790
    },
    "id": "Gh0RoBsx4R89",
    "outputId": "4a7e059a-6dd6-4cd3-bbd3-09e4eea4f889"
   },
   "outputs": [
    {
     "name": "stdout",
     "output_type": "stream",
     "text": [
      "Found 66 images belonging to 3 classes.\n",
      "66/66 [==============================] - 3s 38ms/step\n"
     ]
    },
    {
     "data": {
      "image/png": "[encoded data removed]",
      "text/plain": [
       "<Figure size 800x600 with 2 Axes>"
      ]
     },
     "metadata": {},
     "output_type": "display_data"
    },
    {
     "name": "stdout",
     "output_type": "stream",
     "text": [
      "Classification Report:\n",
      "                  precision    recall  f1-score   support\n",
      "\n",
      "          Covid       1.00      1.00      1.00        26\n",
      "         Normal       1.00      1.00      1.00        20\n",
      "Viral Pneumonia       1.00      1.00      1.00        20\n",
      "\n",
      "       accuracy                           1.00        66\n",
      "      macro avg       1.00      1.00      1.00        66\n",
      "   weighted avg       1.00      1.00      1.00        66\n",
      "\n"
     ]
    }
   ],
   "source": [
    "import numpy as np\n",
    "import seaborn as sns\n",
    "import matplotlib.pyplot as plt\n",
    "from sklearn.metrics import confusion_matrix, classification_report\n",
    "from tensorflow.keras.preprocessing.image import ImageDataGenerator\n",
    "\n",
    "# Create a data generator for the test set\n",
    "test_data_generator = ImageDataGenerator(rescale=1.0/255.0)  # Rescale pixel values\n",
    "\n",
    "# Load the test data from the directories\n",
    "test_data = test_data_generator.flow_from_directory(\n",
    "    test_dir,\n",
    "    target_size=(500, 500),  # Adjust target size as needed\n",
    "    batch_size=1,  # Set batch size to 1 to visualize individual predictions\n",
    "    class_mode='categorical',\n",
    "    shuffle=False  # Important to match predictions with true labels\n",
    ")\n",
    "\n",
    "# Get true labels\n",
    "true_labels = test_data.classes\n",
    "\n",
    "# Predict using your VGG16 model\n",
    "predictions = model.predict(test_data)\n",
    "\n",
    "# Generate a confusion matrix\n",
    "cm = confusion_matrix(true_labels, predictions.argmax(axis=1))\n",
    "\n",
    "# Get class names (categories)\n",
    "class_names = list(test_data.class_indices.keys())\n",
    "\n",
    "# Display the confusion matrix\n",
    "plt.figure(figsize=(8, 6))\n",
    "sns.heatmap(cm, annot=True, fmt='d', cmap='Blues', xticklabels=class_names, yticklabels=class_names)\n",
    "plt.xlabel('Predicted')\n",
    "plt.ylabel('True')\n",
    "plt.title('Confusion Matrix')\n",
    "plt.show()\n",
    "\n",
    "# Generate a classification report\n",
    "report = classification_report(true_labels, predictions.argmax(axis=1), target_names=class_names)\n",
    "print(\"Classification Report:\\n\", report)\n"
   ]
  },
  {
   "cell_type": "markdown",
   "metadata": {
    "id": "1w8suxIWsYdA"
   },
   "source": [
    "### .... Finished ...."
   ]
  }
 ],
 "metadata": {
  "accelerator": "GPU",
  "colab": {
   "gpuType": "T4",
   "provenance": []
  },
  "kernelspec": {
   "display_name": "Python 3 (ipykernel)",
   "language": "python",
   "name": "python3"
  },
  "language_info": {
   "codemirror_mode": {
    "name": "ipython",
    "version": 3
   },
   "file_extension": ".py",
   "mimetype": "text/x-python",
   "name": "python",
   "nbconvert_exporter": "python",
   "pygments_lexer": "ipython3",
   "version": "3.11.5"
  }
 },
 "nbformat": 4,
 "nbformat_minor": 4
}
